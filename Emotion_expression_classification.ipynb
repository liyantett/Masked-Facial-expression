{
 "cells": [
  {
   "cell_type": "code",
   "execution_count": 1,
   "id": "5daf614f",
   "metadata": {},
   "outputs": [
    {
     "name": "stdout",
     "output_type": "stream",
     "text": [
      "(200, 30)\n",
      "(200, 1)\n",
      "(200, 1)\n"
     ]
    }
   ],
   "source": [
    "import pandas as pd\n",
    "import xlrd\n",
    "import numpy as np\n",
    "\n",
    "io=r'AUs.xlsx'\n",
    "\n",
    "AU= pd.read_excel(io, header=None)\n",
    "print(AU.shape)\n",
    "#print(df) \n",
    "#print(df.index)\n",
    "#print(df.describe())\n",
    "\n",
    "io=r'emotion3.xlsx'\n",
    "\n",
    "emotion= pd.read_excel(io, header=None)\n",
    "print(emotion.shape)\n",
    "\n",
    "\n",
    "io=r'expression3.xlsx'\n",
    "\n",
    "expression= pd.read_excel(io, header=None)\n",
    "print(expression.shape)"
   ]
  },
  {
   "cell_type": "code",
   "execution_count": 2,
   "id": "f2bfdbbe",
   "metadata": {},
   "outputs": [],
   "source": [
    "indtrain1=0\n",
    "indtrain2=100\n",
    "\n",
    "indtest1=101\n",
    "indtest2=199"
   ]
  },
  {
   "cell_type": "code",
   "execution_count": 3,
   "id": "8f68fc16",
   "metadata": {},
   "outputs": [
    {
     "name": "stdout",
     "output_type": "stream",
     "text": [
      "(100, 30)\n",
      "(100, 1)\n"
     ]
    }
   ],
   "source": [
    "sample_train=AU[indtrain1:indtrain2]\n",
    "label_train=emotion[indtrain1:indtrain2]\n",
    "print(sample_train.shape)\n",
    "print(label_train.shape)\n",
    "\n",
    "sample_test=AU[indtest1:indtest2]\n",
    "label_test=emotion[indtest1:indtest2]\n"
   ]
  },
  {
   "cell_type": "code",
   "execution_count": 4,
   "id": "2329ef3b",
   "metadata": {},
   "outputs": [
    {
     "name": "stderr",
     "output_type": "stream",
     "text": [
      "C:\\Users\\yante\\anaconda3\\lib\\site-packages\\sklearn\\utils\\validation.py:993: DataConversionWarning: A column-vector y was passed when a 1d array was expected. Please change the shape of y to (n_samples, ), for example using ravel().\n",
      "  y = column_or_1d(y, warn=True)\n",
      "C:\\Users\\yante\\anaconda3\\lib\\site-packages\\sklearn\\utils\\validation.py:993: DataConversionWarning: A column-vector y was passed when a 1d array was expected. Please change the shape of y to (n_samples, ), for example using ravel().\n",
      "  y = column_or_1d(y, warn=True)\n"
     ]
    },
    {
     "data": {
      "text/plain": [
       "SVC(C=10.0, kernel='poly')"
      ]
     },
     "execution_count": 4,
     "metadata": {},
     "output_type": "execute_result"
    }
   ],
   "source": [
    "from sklearn import svm\n",
    "# 1. Initializing a SVM classifier, using linear kernel\n",
    "clf = svm.SVC(kernel='poly',C=10.0,degree=3)\n",
    "clf2 = svm.SVC(kernel='poly',C=10.0,degree=3)\n",
    "# 2. using the classifier to fit your training data\n",
    "clf.fit(sample_train, label_train)  \n",
    "clf2.fit(sample_test, label_test)"
   ]
  },
  {
   "cell_type": "code",
   "execution_count": 5,
   "id": "8db67bd1",
   "metadata": {},
   "outputs": [
    {
     "name": "stdout",
     "output_type": "stream",
     "text": [
      "accuracy_training1: 0.84\n",
      "accuracy_test1: 0.3673469387755102\n",
      "--------------------------------------------------------------------------\n",
      "accuracy_training2: 0.9183673469387755\n",
      "accuracy_test2: 0.42\n"
     ]
    }
   ],
   "source": [
    "# 1. Predicting you training data and testing data.\n",
    "prediction_train = clf.predict(sample_train)\n",
    "prediction = clf.predict(sample_test)\n",
    "\n",
    "prediction_train2 = clf2.predict(sample_test)\n",
    "prediction2 = clf2.predict(sample_train)\n",
    "\n",
    "from sklearn.metrics import accuracy_score\n",
    "from sklearn.metrics import classification_report\n",
    "# 2. Calculating the accuracies of your prediction on training data and testing data, respectively.\n",
    "#    2.1 calculate the accuracy when classifying the training data \n",
    "accuracy_training1 = accuracy_score(label_train,prediction_train)\n",
    "print('accuracy_training1:',accuracy_training1)\n",
    "#    2.2 calculate the accuracy when classifying the test data\n",
    "accuracy_test1 = accuracy_score(label_test,prediction)\n",
    "print('accuracy_test1:',accuracy_test1)\n",
    "\n",
    "print('--------------------------------------------------------------------------')\n",
    "\n",
    "accuracy_training2 = accuracy_score(label_test,prediction_train2)\n",
    "print('accuracy_training2:',accuracy_training2)\n",
    "#    2.2 calculate the accuracy when classifying the test data\n",
    "accuracy_test2 = accuracy_score(label_train,prediction2)\n",
    "print('accuracy_test2:',accuracy_test2)"
   ]
  },
  {
   "cell_type": "code",
   "execution_count": 6,
   "id": "a6fc0ae3",
   "metadata": {},
   "outputs": [
    {
     "name": "stdout",
     "output_type": "stream",
     "text": [
      "(100, 30)\n",
      "(100, 1)\n"
     ]
    }
   ],
   "source": [
    "sample_train=AU[indtrain1:indtrain2]\n",
    "label_train=expression[indtrain1:indtrain2]\n",
    "print(sample_train.shape)\n",
    "print(label_train.shape)\n",
    "\n",
    "sample_test=AU[indtest1:indtest2]\n",
    "label_test=expression[indtest1:indtest2]"
   ]
  },
  {
   "cell_type": "code",
   "execution_count": 7,
   "id": "28f8dc4a",
   "metadata": {},
   "outputs": [
    {
     "name": "stderr",
     "output_type": "stream",
     "text": [
      "C:\\Users\\yante\\anaconda3\\lib\\site-packages\\sklearn\\utils\\validation.py:993: DataConversionWarning: A column-vector y was passed when a 1d array was expected. Please change the shape of y to (n_samples, ), for example using ravel().\n",
      "  y = column_or_1d(y, warn=True)\n",
      "C:\\Users\\yante\\anaconda3\\lib\\site-packages\\sklearn\\utils\\validation.py:993: DataConversionWarning: A column-vector y was passed when a 1d array was expected. Please change the shape of y to (n_samples, ), for example using ravel().\n",
      "  y = column_or_1d(y, warn=True)\n"
     ]
    },
    {
     "data": {
      "text/plain": [
       "SVC(C=100.0, degree=4, kernel='poly')"
      ]
     },
     "execution_count": 7,
     "metadata": {},
     "output_type": "execute_result"
    }
   ],
   "source": [
    "# 1. Initializing a SVM classifier, using linear kernel\n",
    "clf = svm.SVC( kernel='poly',C=100.0,degree=4)  #   \n",
    "clf2 = svm.SVC(kernel='poly',C=100.0,degree=4)\n",
    "# 2. using the classifier to fit your training data\n",
    "clf.fit(sample_train, label_train)  \n",
    "\n",
    "clf2.fit(sample_test, label_test)"
   ]
  },
  {
   "cell_type": "code",
   "execution_count": 8,
   "id": "e4a61409",
   "metadata": {},
   "outputs": [
    {
     "name": "stdout",
     "output_type": "stream",
     "text": [
      "accuracy_training1: 0.87\n",
      "accuracy_test1: 0.5204081632653061\n",
      "--------------------------------------------------------------------------\n",
      "accuracy_training2: 0.9897959183673469\n",
      "accuracy_test2: 0.52\n"
     ]
    }
   ],
   "source": [
    "# 1. Predicting you training data and testing data.\n",
    "prediction_train = clf.predict(sample_train)\n",
    "prediction = clf.predict(sample_test)\n",
    "\n",
    "\n",
    "prediction_train2 = clf2.predict(sample_test)\n",
    "prediction2 = clf2.predict(sample_train)\n",
    "\n",
    "from sklearn.metrics import accuracy_score\n",
    "from sklearn.metrics import classification_report\n",
    "# 2. Calculating the accuracies of your prediction on training data and testing data, respectively.\n",
    "#    2.1 calculate the accuracy when classifying the training data \n",
    "accuracy_training1 = accuracy_score(label_train,prediction_train)\n",
    "print('accuracy_training1:',accuracy_training1)\n",
    "accuracy_training2 = accuracy_score(label_train,prediction_train,normalize = False)\n",
    "\n",
    "\n",
    "#    2.2 calculate the accuracy when classifying the test data\n",
    "accuracy_test1 = accuracy_score(label_test,prediction)\n",
    "print('accuracy_test1:',accuracy_test1)\n",
    "accuracy_test2 = accuracy_score(label_test,prediction,normalize = False)\n",
    "\n",
    "print('--------------------------------------------------------------------------')\n",
    "\n",
    "accuracy_training2 = accuracy_score(label_test,prediction_train2)\n",
    "print('accuracy_training2:',accuracy_training2)\n",
    "#    2.2 calculate the accuracy when classifying the test data\n",
    "accuracy_test2 = accuracy_score(label_train,prediction2)\n",
    "print('accuracy_test2:',accuracy_test2)\n"
   ]
  },
  {
   "cell_type": "code",
   "execution_count": null,
   "id": "a5b41f58",
   "metadata": {},
   "outputs": [],
   "source": []
  },
  {
   "cell_type": "code",
   "execution_count": null,
   "id": "9178e1cb",
   "metadata": {},
   "outputs": [],
   "source": []
  },
  {
   "cell_type": "code",
   "execution_count": null,
   "id": "3fd52bd8",
   "metadata": {},
   "outputs": [],
   "source": []
  },
  {
   "cell_type": "code",
   "execution_count": null,
   "id": "4244af2e",
   "metadata": {},
   "outputs": [],
   "source": []
  },
  {
   "cell_type": "code",
   "execution_count": 9,
   "id": "08b7aae5",
   "metadata": {},
   "outputs": [
    {
     "name": "stdout",
     "output_type": "stream",
     "text": [
      "[[38  0  0]\n",
      " [ 7 33  0]\n",
      " [ 4  2 16]]\n",
      "--------------------------------------------------------------------------\n",
      "[[24  1  9]\n",
      " [14 21  4]\n",
      " [18  1  6]]\n",
      "--------------------------------------------------------------------------\n",
      "train report:\n",
      "\n",
      "               precision    recall  f1-score   support\n",
      "\n",
      "           0       0.78      1.00      0.87        38\n",
      "           1       0.94      0.82      0.88        40\n",
      "           2       1.00      0.73      0.84        22\n",
      "\n",
      "    accuracy                           0.87       100\n",
      "   macro avg       0.91      0.85      0.87       100\n",
      "weighted avg       0.89      0.87      0.87       100\n",
      " \n",
      "\n",
      "\n",
      "test report:\n",
      "\n",
      "               precision    recall  f1-score   support\n",
      "\n",
      "           0       0.43      0.71      0.53        34\n",
      "           1       0.91      0.54      0.68        39\n",
      "           2       0.32      0.24      0.27        25\n",
      "\n",
      "    accuracy                           0.52        98\n",
      "   macro avg       0.55      0.49      0.49        98\n",
      "weighted avg       0.59      0.52      0.52        98\n",
      "\n"
     ]
    }
   ],
   "source": [
    "\n",
    "\n",
    "from sklearn.metrics import confusion_matrix\n",
    "\n",
    "# 3. Draw your confusion matrix\n",
    "# 3. using sklearn.metrics.confusion_matrix\n",
    "#    3.1 Calculate the confusion matrix when classifying the training data\n",
    "confusion_training = confusion_matrix(label_train,prediction_train)\n",
    "print(confusion_training)\n",
    "print('--------------------------------------------------------------------------')\n",
    "\n",
    "#    3.2 Calculate the confusion matrix when classifying the testing data\n",
    "confusion_test = confusion_matrix(label_test,prediction)\n",
    "print(confusion_test)\n",
    "print('--------------------------------------------------------------------------')\n",
    "\n",
    "print('train report:\\n\\n',classification_report(label_train,prediction_train),'\\n\\n')\n",
    "\n",
    "print('test report:\\n\\n',classification_report(label_test,prediction))"
   ]
  },
  {
   "cell_type": "code",
   "execution_count": null,
   "id": "9ec2a390",
   "metadata": {},
   "outputs": [],
   "source": []
  },
  {
   "cell_type": "code",
   "execution_count": null,
   "id": "f9bd3ea5",
   "metadata": {},
   "outputs": [],
   "source": []
  },
  {
   "cell_type": "code",
   "execution_count": null,
   "id": "ab3a0955",
   "metadata": {},
   "outputs": [],
   "source": []
  },
  {
   "cell_type": "code",
   "execution_count": null,
   "id": "b1074cdf",
   "metadata": {},
   "outputs": [],
   "source": []
  }
 ],
 "metadata": {
  "kernelspec": {
   "display_name": "Python 3 (ipykernel)",
   "language": "python",
   "name": "python3"
  },
  "language_info": {
   "codemirror_mode": {
    "name": "ipython",
    "version": 3
   },
   "file_extension": ".py",
   "mimetype": "text/x-python",
   "name": "python",
   "nbconvert_exporter": "python",
   "pygments_lexer": "ipython3",
   "version": "3.9.15"
  }
 },
 "nbformat": 4,
 "nbformat_minor": 5
}
